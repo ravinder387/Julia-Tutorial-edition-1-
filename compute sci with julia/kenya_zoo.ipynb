{
 "cells": [
  {
   "cell_type": "markdown",
   "id": "8d866783",
   "metadata": {},
   "source": [
    "### 1. Data Store"
   ]
  },
  {
   "cell_type": "code",
   "execution_count": 1,
   "id": "3b116c43",
   "metadata": {},
   "outputs": [],
   "source": [
    "using DataFrames"
   ]
  },
  {
   "cell_type": "markdown",
   "id": "58d42ee4-fc9d-4971-ad6b-c705475a521e",
   "metadata": {},
   "source": [
    "Rohan went to kenya for do research on cat animals and collect some data."
   ]
  },
  {
   "cell_type": "code",
   "execution_count": 2,
   "id": "4836b12f",
   "metadata": {},
   "outputs": [
    {
     "data": {
      "text/html": [
       "<div class=\"data-frame\"><p>8 rows × 8 columns</p><table class=\"data-frame\"><thead><tr><th></th><th>Group</th><th>Id</th><th>avg_weight</th><th>avg_length</th><th>hunt_tec</th><th>meat_qty</th><th>hunt_freq</th><th>hunt_success_prob</th></tr><tr><th></th><th title=\"String\">String</th><th title=\"Int64\">Int64</th><th title=\"Int64\">Int64</th><th title=\"Float64\">Float64</th><th title=\"String\">String</th><th title=\"Int64\">Int64</th><th title=\"Int64\">Int64</th><th title=\"Float64\">Float64</th></tr></thead><tbody><tr><th>1</th><td>Lgroup1</td><td>123</td><td>138</td><td>6.7</td><td>crush neck</td><td>15</td><td>2</td><td>0.3</td></tr><tr><th>2</th><td>Lgroup2</td><td>451</td><td>145</td><td>7.1</td><td>crush neck</td><td>17</td><td>3</td><td>0.3</td></tr><tr><th>3</th><td>Cgroup1</td><td>67</td><td>45</td><td>3.1</td><td>speed</td><td>5</td><td>4</td><td>0.4</td></tr><tr><th>4</th><td>Cgroup2</td><td>98</td><td>42</td><td>3.4</td><td>speed</td><td>6</td><td>3</td><td>0.4</td></tr><tr><th>5</th><td>Jgroup1</td><td>90</td><td>78</td><td>4.5</td><td>put on trees</td><td>40</td><td>14</td><td>0.27</td></tr><tr><th>6</th><td>Jgroup2</td><td>91</td><td>81</td><td>5.2</td><td>put on trees</td><td>39</td><td>12</td><td>0.3</td></tr><tr><th>7</th><td>Legroup1</td><td>887</td><td>35</td><td>4.1</td><td>jump</td><td>71</td><td>1</td><td>0.2</td></tr><tr><th>8</th><td>Legroup2</td><td>944</td><td>26</td><td>4.6</td><td>jump</td><td>69</td><td>0</td><td>0.24</td></tr></tbody></table></div>"
      ],
      "text/latex": [
       "\\begin{tabular}{r|cccccccc}\n",
       "\t& Group & Id & avg\\_weight & avg\\_length & hunt\\_tec & meat\\_qty & hunt\\_freq & hunt\\_success\\_prob\\\\\n",
       "\t\\hline\n",
       "\t& String & Int64 & Int64 & Float64 & String & Int64 & Int64 & Float64\\\\\n",
       "\t\\hline\n",
       "\t1 & Lgroup1 & 123 & 138 & 6.7 & crush neck & 15 & 2 & 0.3 \\\\\n",
       "\t2 & Lgroup2 & 451 & 145 & 7.1 & crush neck & 17 & 3 & 0.3 \\\\\n",
       "\t3 & Cgroup1 & 67 & 45 & 3.1 & speed & 5 & 4 & 0.4 \\\\\n",
       "\t4 & Cgroup2 & 98 & 42 & 3.4 & speed & 6 & 3 & 0.4 \\\\\n",
       "\t5 & Jgroup1 & 90 & 78 & 4.5 & put on trees & 40 & 14 & 0.27 \\\\\n",
       "\t6 & Jgroup2 & 91 & 81 & 5.2 & put on trees & 39 & 12 & 0.3 \\\\\n",
       "\t7 & Legroup1 & 887 & 35 & 4.1 & jump & 71 & 1 & 0.2 \\\\\n",
       "\t8 & Legroup2 & 944 & 26 & 4.6 & jump & 69 & 0 & 0.24 \\\\\n",
       "\\end{tabular}\n"
      ],
      "text/plain": [
       "\u001b[1m8×8 DataFrame\u001b[0m\n",
       "\u001b[1m Row \u001b[0m│\u001b[1m Group    \u001b[0m\u001b[1m Id    \u001b[0m\u001b[1m avg_weight \u001b[0m\u001b[1m avg_length \u001b[0m\u001b[1m hunt_tec     \u001b[0m\u001b[1m meat_qty \u001b[0m\u001b[1m hunt_f\u001b[0m ⋯\n",
       "\u001b[1m     \u001b[0m│\u001b[90m String   \u001b[0m\u001b[90m Int64 \u001b[0m\u001b[90m Int64      \u001b[0m\u001b[90m Float64    \u001b[0m\u001b[90m String       \u001b[0m\u001b[90m Int64    \u001b[0m\u001b[90m Int64 \u001b[0m ⋯\n",
       "─────┼──────────────────────────────────────────────────────────────────────────\n",
       "   1 │ Lgroup1     123         138         6.7  crush neck          15         ⋯\n",
       "   2 │ Lgroup2     451         145         7.1  crush neck          17\n",
       "   3 │ Cgroup1      67          45         3.1  speed                5\n",
       "   4 │ Cgroup2      98          42         3.4  speed                6\n",
       "   5 │ Jgroup1      90          78         4.5  put on trees        40         ⋯\n",
       "   6 │ Jgroup2      91          81         5.2  put on trees        39\n",
       "   7 │ Legroup1    887          35         4.1  jump                71\n",
       "   8 │ Legroup2    944          26         4.6  jump                69\n",
       "\u001b[36m                                                               2 columns omitted\u001b[0m"
      ]
     },
     "execution_count": 2,
     "metadata": {},
     "output_type": "execute_result"
    }
   ],
   "source": [
    "df = DataFrame(\"Group\" => [\"Lgroup1\", \"Lgroup2\", \"Cgroup1\", \"Cgroup2\", \"Jgroup1\", \"Jgroup2\", \"Legroup1\", \"Legroup2\"],\n",
    "\"Id\" => [123, 451, 67, 98, 90, 91, 887, 944],\n",
    "\"avg_weight\" => [138, 145, 45, 42, 78, 81, 35,26],\n",
    "\"avg_length\" => [6.7, 7.1, 3.1, 3.4, 4.5, 5.2, 4.1, 4.6],\n",
    "\"hunt_tec\" => [\"crush neck\", \"crush neck\", \"speed\", \"speed\", \"put on trees\", \"put on trees\", \"jump\", \"jump\"],\n",
    "\"meat_qty\" => [15, 17, 5, 6, 40,39, 71, 69],\n",
    "\"hunt_freq\" => [2, 3, 4,3, 14, 12, 1, 0],\n",
    "\"hunt_success_prob\" => [0.3, 0.3,0.4, 0.4,0.27, 0.3, 0.2, 0.24 ])"
   ]
  },
  {
   "cell_type": "markdown",
   "id": "f0c19ac8",
   "metadata": {},
   "source": [
    "### 2. Data Compute"
   ]
  },
  {
   "cell_type": "markdown",
   "id": "8217f5e4-6c34-4f38-b96d-19d6ea84b8db",
   "metadata": {},
   "source": [
    "cheetah camera's id change from 67 to 77"
   ]
  },
  {
   "cell_type": "code",
   "execution_count": 3,
   "id": "65c36ba8",
   "metadata": {},
   "outputs": [
    {
     "data": {
      "text/plain": [
       "67"
      ]
     },
     "execution_count": 3,
     "metadata": {},
     "output_type": "execute_result"
    }
   ],
   "source": [
    "df.Id[3] # data access"
   ]
  },
  {
   "cell_type": "code",
   "execution_count": 3,
   "id": "8b5ddd27",
   "metadata": {},
   "outputs": [
    {
     "data": {
      "text/plain": [
       "77"
      ]
     },
     "execution_count": 3,
     "metadata": {},
     "output_type": "execute_result"
    }
   ],
   "source": [
    "df.Id[3] = 77 # manipulate by operator"
   ]
  },
  {
   "cell_type": "markdown",
   "id": "31d49f3d-91c1-405f-a87e-6aa30371ecc3",
   "metadata": {},
   "source": [
    "Rohan is free and go for causal walking. He find ziraffe want to know avg height of them. "
   ]
  },
  {
   "cell_type": "code",
   "execution_count": 2,
   "id": "d278e328-0892-48fb-b888-901d0976a588",
   "metadata": {},
   "outputs": [
    {
     "data": {
      "text/plain": [
       "3-element Vector{Float64}:\n",
       " 4.4\n",
       " 5.6\n",
       " 6.1"
      ]
     },
     "execution_count": 2,
     "metadata": {},
     "output_type": "execute_result"
    }
   ],
   "source": [
    "data = [4.4, 5.6, 6.1] # data store"
   ]
  },
  {
   "cell_type": "code",
   "execution_count": 5,
   "id": "1d958bf9-da19-4a0c-9bf4-2996d5d0b3c0",
   "metadata": {},
   "outputs": [
    {
     "data": {
      "text/plain": [
       "4.4"
      ]
     },
     "execution_count": 5,
     "metadata": {},
     "output_type": "execute_result"
    }
   ],
   "source": [
    "data[1] # data access"
   ]
  },
  {
   "cell_type": "code",
   "execution_count": 26,
   "id": "c529ae1c-3fca-46b7-bb15-5f5bea6e20a0",
   "metadata": {},
   "outputs": [
    {
     "data": {
      "text/plain": [
       "5.366666666666667"
      ]
     },
     "execution_count": 26,
     "metadata": {},
     "output_type": "execute_result"
    }
   ],
   "source": [
    "# manipulate\n",
    "z = data[1] + data[2] + data[3] #sum\n",
    "z = z/3 # avg\n",
    "z"
   ]
  },
  {
   "cell_type": "markdown",
   "id": "e7e88306-a9f4-4aa0-b1da-3619889025bb",
   "metadata": {},
   "source": [
    "suppose u wanna perform same task many times e,g 50 times"
   ]
  },
  {
   "cell_type": "code",
   "execution_count": 3,
   "id": "24a9e497-7005-48fd-b611-057090683cac",
   "metadata": {},
   "outputs": [
    {
     "data": {
      "text/plain": [
       "mean0 (generic function with 1 method)"
      ]
     },
     "execution_count": 3,
     "metadata": {},
     "output_type": "execute_result"
    }
   ],
   "source": [
    "function mean0(a)\n",
    "    out = 0.0\n",
    "    for i in a\n",
    "        out += i\n",
    "    end\n",
    "    \n",
    "    return out/length(a)\n",
    "end"
   ]
  },
  {
   "cell_type": "code",
   "execution_count": 4,
   "id": "169f7f9e-4120-4f05-ae9f-93e14222d1df",
   "metadata": {},
   "outputs": [
    {
     "data": {
      "text/plain": [
       "5.366666666666667"
      ]
     },
     "execution_count": 4,
     "metadata": {},
     "output_type": "execute_result"
    }
   ],
   "source": [
    "mean0(data)"
   ]
  },
  {
   "cell_type": "code",
   "execution_count": null,
   "id": "c9b34db8-cc5e-4b48-9f51-0a24d7b4082c",
   "metadata": {},
   "outputs": [],
   "source": [
    "mean0(other_data) # one line of code"
   ]
  },
  {
   "cell_type": "code",
   "execution_count": 4,
   "id": "6078d536",
   "metadata": {},
   "outputs": [
    {
     "data": {
      "text/html": [
       "<div class=\"data-frame\"><p>8 rows × 8 columns</p><table class=\"data-frame\"><thead><tr><th></th><th>Group</th><th>Id</th><th>avg_weight</th><th>avg_length</th><th>hunt_tec</th><th>meat_qty</th><th>hunt_freq</th><th>hunt_success_prob</th></tr><tr><th></th><th title=\"String\">String</th><th title=\"Int64\">Int64</th><th title=\"Int64\">Int64</th><th title=\"Float64\">Float64</th><th title=\"String\">String</th><th title=\"Int64\">Int64</th><th title=\"Int64\">Int64</th><th title=\"Float64\">Float64</th></tr></thead><tbody><tr><th>1</th><td>Lgroup1</td><td>123</td><td>138</td><td>6.7</td><td>crush neck</td><td>15</td><td>2</td><td>0.3</td></tr><tr><th>2</th><td>Lgroup2</td><td>451</td><td>145</td><td>7.1</td><td>crush neck</td><td>17</td><td>3</td><td>0.3</td></tr><tr><th>3</th><td>Cgroup1</td><td>77</td><td>45</td><td>3.1</td><td>speed</td><td>5</td><td>4</td><td>0.4</td></tr><tr><th>4</th><td>Cgroup2</td><td>98</td><td>42</td><td>3.4</td><td>speed</td><td>6</td><td>3</td><td>0.4</td></tr><tr><th>5</th><td>Jgroup1</td><td>90</td><td>78</td><td>4.5</td><td>put on trees</td><td>40</td><td>14</td><td>0.27</td></tr><tr><th>6</th><td>Jgroup2</td><td>91</td><td>81</td><td>5.2</td><td>put on trees</td><td>39</td><td>12</td><td>0.3</td></tr><tr><th>7</th><td>Legroup1</td><td>887</td><td>35</td><td>4.1</td><td>jump</td><td>71</td><td>1</td><td>0.2</td></tr><tr><th>8</th><td>Legroup2</td><td>944</td><td>26</td><td>4.6</td><td>jump</td><td>69</td><td>0</td><td>0.24</td></tr></tbody></table></div>"
      ],
      "text/latex": [
       "\\begin{tabular}{r|cccccccc}\n",
       "\t& Group & Id & avg\\_weight & avg\\_length & hunt\\_tec & meat\\_qty & hunt\\_freq & hunt\\_success\\_prob\\\\\n",
       "\t\\hline\n",
       "\t& String & Int64 & Int64 & Float64 & String & Int64 & Int64 & Float64\\\\\n",
       "\t\\hline\n",
       "\t1 & Lgroup1 & 123 & 138 & 6.7 & crush neck & 15 & 2 & 0.3 \\\\\n",
       "\t2 & Lgroup2 & 451 & 145 & 7.1 & crush neck & 17 & 3 & 0.3 \\\\\n",
       "\t3 & Cgroup1 & 77 & 45 & 3.1 & speed & 5 & 4 & 0.4 \\\\\n",
       "\t4 & Cgroup2 & 98 & 42 & 3.4 & speed & 6 & 3 & 0.4 \\\\\n",
       "\t5 & Jgroup1 & 90 & 78 & 4.5 & put on trees & 40 & 14 & 0.27 \\\\\n",
       "\t6 & Jgroup2 & 91 & 81 & 5.2 & put on trees & 39 & 12 & 0.3 \\\\\n",
       "\t7 & Legroup1 & 887 & 35 & 4.1 & jump & 71 & 1 & 0.2 \\\\\n",
       "\t8 & Legroup2 & 944 & 26 & 4.6 & jump & 69 & 0 & 0.24 \\\\\n",
       "\\end{tabular}\n"
      ],
      "text/plain": [
       "\u001b[1m8×8 DataFrame\u001b[0m\n",
       "\u001b[1m Row \u001b[0m│\u001b[1m Group    \u001b[0m\u001b[1m Id    \u001b[0m\u001b[1m avg_weight \u001b[0m\u001b[1m avg_length \u001b[0m\u001b[1m hunt_tec     \u001b[0m\u001b[1m meat_qty \u001b[0m\u001b[1m hunt_f\u001b[0m ⋯\n",
       "\u001b[1m     \u001b[0m│\u001b[90m String   \u001b[0m\u001b[90m Int64 \u001b[0m\u001b[90m Int64      \u001b[0m\u001b[90m Float64    \u001b[0m\u001b[90m String       \u001b[0m\u001b[90m Int64    \u001b[0m\u001b[90m Int64 \u001b[0m ⋯\n",
       "─────┼──────────────────────────────────────────────────────────────────────────\n",
       "   1 │ Lgroup1     123         138         6.7  crush neck          15         ⋯\n",
       "   2 │ Lgroup2     451         145         7.1  crush neck          17\n",
       "   3 │ Cgroup1      77          45         3.1  speed                5\n",
       "   4 │ Cgroup2      98          42         3.4  speed                6\n",
       "   5 │ Jgroup1      90          78         4.5  put on trees        40         ⋯\n",
       "   6 │ Jgroup2      91          81         5.2  put on trees        39\n",
       "   7 │ Legroup1    887          35         4.1  jump                71\n",
       "   8 │ Legroup2    944          26         4.6  jump                69\n",
       "\u001b[36m                                                               2 columns omitted\u001b[0m"
      ]
     },
     "execution_count": 4,
     "metadata": {},
     "output_type": "execute_result"
    }
   ],
   "source": [
    "df"
   ]
  },
  {
   "cell_type": "markdown",
   "id": "1c636e05",
   "metadata": {},
   "source": [
    "Lgroup2's id change from 451 to 345\n",
    "Legroup2's id change from 944 to 765\n",
    "Legroup1's id change from  887 to 721"
   ]
  },
  {
   "cell_type": "code",
   "execution_count": 4,
   "id": "56ccbf71",
   "metadata": {},
   "outputs": [
    {
     "data": {
      "text/plain": [
       "721"
      ]
     },
     "execution_count": 4,
     "metadata": {},
     "output_type": "execute_result"
    }
   ],
   "source": [
    "df.Id[2] = 345\n",
    "df.Id[8] = 765\n",
    "df.Id[7] = 721"
   ]
  },
  {
   "cell_type": "markdown",
   "id": "06651c6e",
   "metadata": {},
   "source": [
    "He convert weight into pounds 1 pound = 0.45 kg"
   ]
  },
  {
   "cell_type": "code",
   "execution_count": 5,
   "id": "54195aed",
   "metadata": {},
   "outputs": [
    {
     "data": {
      "text/plain": [
       "8-element Vector{Float64}:\n",
       " 306.6666666666667\n",
       " 322.22222222222223\n",
       " 100.0\n",
       "  93.33333333333333\n",
       " 173.33333333333334\n",
       " 180.0\n",
       "  77.77777777777777\n",
       "  57.77777777777778"
      ]
     },
     "execution_count": 5,
     "metadata": {},
     "output_type": "execute_result"
    }
   ],
   "source": [
    "# automatic do loop\n",
    "df.avg_weight = df.avg_weight/0.45"
   ]
  },
  {
   "cell_type": "code",
   "execution_count": 6,
   "id": "00e8a268",
   "metadata": {},
   "outputs": [
    {
     "data": {
      "text/html": [
       "<div class=\"data-frame\"><p>8 rows × 8 columns</p><table class=\"data-frame\"><thead><tr><th></th><th>Group</th><th>Id</th><th>avg_weight</th><th>avg_length</th><th>hunt_tec</th><th>meat_qty</th><th>hunt_freq</th><th>hunt_success_prob</th></tr><tr><th></th><th title=\"String\">String</th><th title=\"Int64\">Int64</th><th title=\"Float64\">Float64</th><th title=\"Float64\">Float64</th><th title=\"String\">String</th><th title=\"Int64\">Int64</th><th title=\"Int64\">Int64</th><th title=\"Float64\">Float64</th></tr></thead><tbody><tr><th>1</th><td>Lgroup1</td><td>123</td><td>306.667</td><td>6.7</td><td>crush neck</td><td>15</td><td>2</td><td>0.3</td></tr><tr><th>2</th><td>Lgroup2</td><td>345</td><td>322.222</td><td>7.1</td><td>crush neck</td><td>17</td><td>3</td><td>0.3</td></tr><tr><th>3</th><td>Cgroup1</td><td>77</td><td>100.0</td><td>3.1</td><td>speed</td><td>5</td><td>4</td><td>0.4</td></tr><tr><th>4</th><td>Cgroup2</td><td>98</td><td>93.3333</td><td>3.4</td><td>speed</td><td>6</td><td>3</td><td>0.4</td></tr><tr><th>5</th><td>Jgroup1</td><td>90</td><td>173.333</td><td>4.5</td><td>put on trees</td><td>40</td><td>14</td><td>0.27</td></tr><tr><th>6</th><td>Jgroup2</td><td>91</td><td>180.0</td><td>5.2</td><td>put on trees</td><td>39</td><td>12</td><td>0.3</td></tr><tr><th>7</th><td>Legroup1</td><td>721</td><td>77.7778</td><td>4.1</td><td>jump</td><td>71</td><td>1</td><td>0.2</td></tr><tr><th>8</th><td>Legroup2</td><td>765</td><td>57.7778</td><td>4.6</td><td>jump</td><td>69</td><td>0</td><td>0.24</td></tr></tbody></table></div>"
      ],
      "text/latex": [
       "\\begin{tabular}{r|cccccccc}\n",
       "\t& Group & Id & avg\\_weight & avg\\_length & hunt\\_tec & meat\\_qty & hunt\\_freq & hunt\\_success\\_prob\\\\\n",
       "\t\\hline\n",
       "\t& String & Int64 & Float64 & Float64 & String & Int64 & Int64 & Float64\\\\\n",
       "\t\\hline\n",
       "\t1 & Lgroup1 & 123 & 306.667 & 6.7 & crush neck & 15 & 2 & 0.3 \\\\\n",
       "\t2 & Lgroup2 & 345 & 322.222 & 7.1 & crush neck & 17 & 3 & 0.3 \\\\\n",
       "\t3 & Cgroup1 & 77 & 100.0 & 3.1 & speed & 5 & 4 & 0.4 \\\\\n",
       "\t4 & Cgroup2 & 98 & 93.3333 & 3.4 & speed & 6 & 3 & 0.4 \\\\\n",
       "\t5 & Jgroup1 & 90 & 173.333 & 4.5 & put on trees & 40 & 14 & 0.27 \\\\\n",
       "\t6 & Jgroup2 & 91 & 180.0 & 5.2 & put on trees & 39 & 12 & 0.3 \\\\\n",
       "\t7 & Legroup1 & 721 & 77.7778 & 4.1 & jump & 71 & 1 & 0.2 \\\\\n",
       "\t8 & Legroup2 & 765 & 57.7778 & 4.6 & jump & 69 & 0 & 0.24 \\\\\n",
       "\\end{tabular}\n"
      ],
      "text/plain": [
       "\u001b[1m8×8 DataFrame\u001b[0m\n",
       "\u001b[1m Row \u001b[0m│\u001b[1m Group    \u001b[0m\u001b[1m Id    \u001b[0m\u001b[1m avg_weight \u001b[0m\u001b[1m avg_length \u001b[0m\u001b[1m hunt_tec     \u001b[0m\u001b[1m meat_qty \u001b[0m\u001b[1m hunt_f\u001b[0m ⋯\n",
       "\u001b[1m     \u001b[0m│\u001b[90m String   \u001b[0m\u001b[90m Int64 \u001b[0m\u001b[90m Float64    \u001b[0m\u001b[90m Float64    \u001b[0m\u001b[90m String       \u001b[0m\u001b[90m Int64    \u001b[0m\u001b[90m Int64 \u001b[0m ⋯\n",
       "─────┼──────────────────────────────────────────────────────────────────────────\n",
       "   1 │ Lgroup1     123    306.667          6.7  crush neck          15         ⋯\n",
       "   2 │ Lgroup2     345    322.222          7.1  crush neck          17\n",
       "   3 │ Cgroup1      77    100.0            3.1  speed                5\n",
       "   4 │ Cgroup2      98     93.3333         3.4  speed                6\n",
       "   5 │ Jgroup1      90    173.333          4.5  put on trees        40         ⋯\n",
       "   6 │ Jgroup2      91    180.0            5.2  put on trees        39\n",
       "   7 │ Legroup1    721     77.7778         4.1  jump                71\n",
       "   8 │ Legroup2    765     57.7778         4.6  jump                69\n",
       "\u001b[36m                                                               2 columns omitted\u001b[0m"
      ]
     },
     "execution_count": 6,
     "metadata": {},
     "output_type": "execute_result"
    }
   ],
   "source": [
    "df"
   ]
  },
  {
   "cell_type": "markdown",
   "id": "fe7bd2f2",
   "metadata": {},
   "source": [
    "He compare animals groups. He observe that Lgroup1's hunt success increased by 0.02 Also Cgroup's hunt and Jgroup1 increased by 0.02 "
   ]
  },
  {
   "cell_type": "code",
   "execution_count": 7,
   "id": "5f946a26",
   "metadata": {},
   "outputs": [],
   "source": [
    "r = range(1, step = 2, stop = 5)\n",
    "for i in r\n",
    "    df.hunt_success_prob[i] += 0.02\n",
    "end"
   ]
  },
  {
   "cell_type": "code",
   "execution_count": 8,
   "id": "5e314a7e",
   "metadata": {},
   "outputs": [
    {
     "data": {
      "text/html": [
       "<div class=\"data-frame\"><p>8 rows × 8 columns</p><table class=\"data-frame\"><thead><tr><th></th><th>Group</th><th>Id</th><th>avg_weight</th><th>avg_length</th><th>hunt_tec</th><th>meat_qty</th><th>hunt_freq</th><th>hunt_success_prob</th></tr><tr><th></th><th title=\"String\">String</th><th title=\"Int64\">Int64</th><th title=\"Float64\">Float64</th><th title=\"Float64\">Float64</th><th title=\"String\">String</th><th title=\"Int64\">Int64</th><th title=\"Int64\">Int64</th><th title=\"Float64\">Float64</th></tr></thead><tbody><tr><th>1</th><td>Lgroup1</td><td>123</td><td>306.667</td><td>6.7</td><td>crush neck</td><td>15</td><td>2</td><td>0.32</td></tr><tr><th>2</th><td>Lgroup2</td><td>345</td><td>322.222</td><td>7.1</td><td>crush neck</td><td>17</td><td>3</td><td>0.3</td></tr><tr><th>3</th><td>Cgroup1</td><td>77</td><td>100.0</td><td>3.1</td><td>speed</td><td>5</td><td>4</td><td>0.42</td></tr><tr><th>4</th><td>Cgroup2</td><td>98</td><td>93.3333</td><td>3.4</td><td>speed</td><td>6</td><td>3</td><td>0.4</td></tr><tr><th>5</th><td>Jgroup1</td><td>90</td><td>173.333</td><td>4.5</td><td>put on trees</td><td>40</td><td>14</td><td>0.29</td></tr><tr><th>6</th><td>Jgroup2</td><td>91</td><td>180.0</td><td>5.2</td><td>put on trees</td><td>39</td><td>12</td><td>0.3</td></tr><tr><th>7</th><td>Legroup1</td><td>721</td><td>77.7778</td><td>4.1</td><td>jump</td><td>71</td><td>1</td><td>0.2</td></tr><tr><th>8</th><td>Legroup2</td><td>765</td><td>57.7778</td><td>4.6</td><td>jump</td><td>69</td><td>0</td><td>0.24</td></tr></tbody></table></div>"
      ],
      "text/latex": [
       "\\begin{tabular}{r|cccccccc}\n",
       "\t& Group & Id & avg\\_weight & avg\\_length & hunt\\_tec & meat\\_qty & hunt\\_freq & hunt\\_success\\_prob\\\\\n",
       "\t\\hline\n",
       "\t& String & Int64 & Float64 & Float64 & String & Int64 & Int64 & Float64\\\\\n",
       "\t\\hline\n",
       "\t1 & Lgroup1 & 123 & 306.667 & 6.7 & crush neck & 15 & 2 & 0.32 \\\\\n",
       "\t2 & Lgroup2 & 345 & 322.222 & 7.1 & crush neck & 17 & 3 & 0.3 \\\\\n",
       "\t3 & Cgroup1 & 77 & 100.0 & 3.1 & speed & 5 & 4 & 0.42 \\\\\n",
       "\t4 & Cgroup2 & 98 & 93.3333 & 3.4 & speed & 6 & 3 & 0.4 \\\\\n",
       "\t5 & Jgroup1 & 90 & 173.333 & 4.5 & put on trees & 40 & 14 & 0.29 \\\\\n",
       "\t6 & Jgroup2 & 91 & 180.0 & 5.2 & put on trees & 39 & 12 & 0.3 \\\\\n",
       "\t7 & Legroup1 & 721 & 77.7778 & 4.1 & jump & 71 & 1 & 0.2 \\\\\n",
       "\t8 & Legroup2 & 765 & 57.7778 & 4.6 & jump & 69 & 0 & 0.24 \\\\\n",
       "\\end{tabular}\n"
      ],
      "text/plain": [
       "\u001b[1m8×8 DataFrame\u001b[0m\n",
       "\u001b[1m Row \u001b[0m│\u001b[1m Group    \u001b[0m\u001b[1m Id    \u001b[0m\u001b[1m avg_weight \u001b[0m\u001b[1m avg_length \u001b[0m\u001b[1m hunt_tec     \u001b[0m\u001b[1m meat_qty \u001b[0m\u001b[1m hunt_f\u001b[0m ⋯\n",
       "\u001b[1m     \u001b[0m│\u001b[90m String   \u001b[0m\u001b[90m Int64 \u001b[0m\u001b[90m Float64    \u001b[0m\u001b[90m Float64    \u001b[0m\u001b[90m String       \u001b[0m\u001b[90m Int64    \u001b[0m\u001b[90m Int64 \u001b[0m ⋯\n",
       "─────┼──────────────────────────────────────────────────────────────────────────\n",
       "   1 │ Lgroup1     123    306.667          6.7  crush neck          15         ⋯\n",
       "   2 │ Lgroup2     345    322.222          7.1  crush neck          17\n",
       "   3 │ Cgroup1      77    100.0            3.1  speed                5\n",
       "   4 │ Cgroup2      98     93.3333         3.4  speed                6\n",
       "   5 │ Jgroup1      90    173.333          4.5  put on trees        40         ⋯\n",
       "   6 │ Jgroup2      91    180.0            5.2  put on trees        39\n",
       "   7 │ Legroup1    721     77.7778         4.1  jump                71\n",
       "   8 │ Legroup2    765     57.7778         4.6  jump                69\n",
       "\u001b[36m                                                               2 columns omitted\u001b[0m"
      ]
     },
     "execution_count": 8,
     "metadata": {},
     "output_type": "execute_result"
    }
   ],
   "source": [
    "df"
   ]
  },
  {
   "cell_type": "markdown",
   "id": "0449b40f",
   "metadata": {},
   "source": [
    "Cgroup1's meat qty increased by 1 Jroup1 and jgroup2 + by 1"
   ]
  },
  {
   "cell_type": "code",
   "execution_count": 9,
   "id": "f7c760ea",
   "metadata": {},
   "outputs": [],
   "source": [
    "for i in [3, 5, 6]\n",
    "    df.meat_qty[i] += 1\n",
    "end"
   ]
  },
  {
   "cell_type": "code",
   "execution_count": 10,
   "id": "64c76a86",
   "metadata": {},
   "outputs": [
    {
     "data": {
      "text/html": [
       "<div class=\"data-frame\"><p>8 rows × 8 columns</p><table class=\"data-frame\"><thead><tr><th></th><th>Group</th><th>Id</th><th>avg_weight</th><th>avg_length</th><th>hunt_tec</th><th>meat_qty</th><th>hunt_freq</th><th>hunt_success_prob</th></tr><tr><th></th><th title=\"String\">String</th><th title=\"Int64\">Int64</th><th title=\"Float64\">Float64</th><th title=\"Float64\">Float64</th><th title=\"String\">String</th><th title=\"Int64\">Int64</th><th title=\"Int64\">Int64</th><th title=\"Float64\">Float64</th></tr></thead><tbody><tr><th>1</th><td>Lgroup1</td><td>123</td><td>306.667</td><td>6.7</td><td>crush neck</td><td>15</td><td>2</td><td>0.32</td></tr><tr><th>2</th><td>Lgroup2</td><td>345</td><td>322.222</td><td>7.1</td><td>crush neck</td><td>17</td><td>3</td><td>0.3</td></tr><tr><th>3</th><td>Cgroup1</td><td>77</td><td>100.0</td><td>3.1</td><td>speed</td><td>6</td><td>4</td><td>0.42</td></tr><tr><th>4</th><td>Cgroup2</td><td>98</td><td>93.3333</td><td>3.4</td><td>speed</td><td>6</td><td>3</td><td>0.4</td></tr><tr><th>5</th><td>Jgroup1</td><td>90</td><td>173.333</td><td>4.5</td><td>put on trees</td><td>41</td><td>14</td><td>0.29</td></tr><tr><th>6</th><td>Jgroup2</td><td>91</td><td>180.0</td><td>5.2</td><td>put on trees</td><td>40</td><td>12</td><td>0.3</td></tr><tr><th>7</th><td>Legroup1</td><td>721</td><td>77.7778</td><td>4.1</td><td>jump</td><td>71</td><td>1</td><td>0.2</td></tr><tr><th>8</th><td>Legroup2</td><td>765</td><td>57.7778</td><td>4.6</td><td>jump</td><td>69</td><td>0</td><td>0.24</td></tr></tbody></table></div>"
      ],
      "text/latex": [
       "\\begin{tabular}{r|cccccccc}\n",
       "\t& Group & Id & avg\\_weight & avg\\_length & hunt\\_tec & meat\\_qty & hunt\\_freq & hunt\\_success\\_prob\\\\\n",
       "\t\\hline\n",
       "\t& String & Int64 & Float64 & Float64 & String & Int64 & Int64 & Float64\\\\\n",
       "\t\\hline\n",
       "\t1 & Lgroup1 & 123 & 306.667 & 6.7 & crush neck & 15 & 2 & 0.32 \\\\\n",
       "\t2 & Lgroup2 & 345 & 322.222 & 7.1 & crush neck & 17 & 3 & 0.3 \\\\\n",
       "\t3 & Cgroup1 & 77 & 100.0 & 3.1 & speed & 6 & 4 & 0.42 \\\\\n",
       "\t4 & Cgroup2 & 98 & 93.3333 & 3.4 & speed & 6 & 3 & 0.4 \\\\\n",
       "\t5 & Jgroup1 & 90 & 173.333 & 4.5 & put on trees & 41 & 14 & 0.29 \\\\\n",
       "\t6 & Jgroup2 & 91 & 180.0 & 5.2 & put on trees & 40 & 12 & 0.3 \\\\\n",
       "\t7 & Legroup1 & 721 & 77.7778 & 4.1 & jump & 71 & 1 & 0.2 \\\\\n",
       "\t8 & Legroup2 & 765 & 57.7778 & 4.6 & jump & 69 & 0 & 0.24 \\\\\n",
       "\\end{tabular}\n"
      ],
      "text/plain": [
       "\u001b[1m8×8 DataFrame\u001b[0m\n",
       "\u001b[1m Row \u001b[0m│\u001b[1m Group    \u001b[0m\u001b[1m Id    \u001b[0m\u001b[1m avg_weight \u001b[0m\u001b[1m avg_length \u001b[0m\u001b[1m hunt_tec     \u001b[0m\u001b[1m meat_qty \u001b[0m\u001b[1m hunt_f\u001b[0m ⋯\n",
       "\u001b[1m     \u001b[0m│\u001b[90m String   \u001b[0m\u001b[90m Int64 \u001b[0m\u001b[90m Float64    \u001b[0m\u001b[90m Float64    \u001b[0m\u001b[90m String       \u001b[0m\u001b[90m Int64    \u001b[0m\u001b[90m Int64 \u001b[0m ⋯\n",
       "─────┼──────────────────────────────────────────────────────────────────────────\n",
       "   1 │ Lgroup1     123    306.667          6.7  crush neck          15         ⋯\n",
       "   2 │ Lgroup2     345    322.222          7.1  crush neck          17\n",
       "   3 │ Cgroup1      77    100.0            3.1  speed                6\n",
       "   4 │ Cgroup2      98     93.3333         3.4  speed                6\n",
       "   5 │ Jgroup1      90    173.333          4.5  put on trees        41         ⋯\n",
       "   6 │ Jgroup2      91    180.0            5.2  put on trees        40\n",
       "   7 │ Legroup1    721     77.7778         4.1  jump                71\n",
       "   8 │ Legroup2    765     57.7778         4.6  jump                69\n",
       "\u001b[36m                                                               2 columns omitted\u001b[0m"
      ]
     },
     "execution_count": 10,
     "metadata": {},
     "output_type": "execute_result"
    }
   ],
   "source": [
    "df"
   ]
  },
  {
   "cell_type": "code",
   "execution_count": null,
   "id": "628464ba",
   "metadata": {},
   "outputs": [],
   "source": []
  }
 ],
 "metadata": {
  "kernelspec": {
   "display_name": "Julia 1.6.3",
   "language": "julia",
   "name": "julia-1.6"
  },
  "language_info": {
   "file_extension": ".jl",
   "mimetype": "application/julia",
   "name": "julia",
   "version": "1.6.3"
  }
 },
 "nbformat": 4,
 "nbformat_minor": 5
}
